{
 "cells": [
  {
   "cell_type": "code",
   "execution_count": 1,
   "metadata": {},
   "outputs": [
    {
     "name": "stdout",
     "output_type": "stream",
     "text": [
      "Accuracy score on the training data malayalam:  0.9898209898209899\n",
      "Accuracy score on the testing data malayalam:  0.6830294530154277\n"
     ]
    }
   ],
   "source": [
    "import numpy as np\n",
    "import pandas as pd\n",
    "from sklearn.feature_extraction.text import TfidfVectorizer\n",
    "from sklearn.model_selection import train_test_split\n",
    "from sklearn.ensemble import RandomForestClassifier\n",
    "from sklearn.metrics import accuracy_score\n",
    "from sklearn.svm import SVC\n",
    "\n",
    "# Load data\n",
    "data1 = pd.read_csv(r\"F:\\VS Code\\Machine Learning Projects\\Malayalam Tamil Foul Word detection\\AWM_train.csv\")\n",
    "data2 = pd.read_csv(r\"F:\\VS Code\\Machine Learning Projects\\Malayalam Tamil Foul Word detection\\AWM_dev.csv\")\n",
    "malayalam_dataset = pd.concat([data1, data2], axis=0)\n",
    "\n",
    "from indicnlp.tokenize import indic_tokenize\n",
    "\n",
    "malayalam_stopwords = {\n",
    "    \"അവൻ\", \"അവൾ\", \"അവർ\", \"അത്\", \"ഇത്\", \"ഞാൻ\", \"നാം\", \"നിങ്ങൾ\", \n",
    "    \"അവിടെ\", \"ഇവിടെ\", \"എന്നെ\", \"അതേ\", \"ഇല്ല\", \"അതിനു\", \"അതിന്\", \n",
    "    \"അവസാനം\", \"അവിടെ\", \"അവയുടെ\", \"ഇതിൽ\", \"ഇതിന്റെ\", \"അതിൽ\", \n",
    "    \"നമ്മുടെ\", \"അവിടെ\", \"വളരെ\", \"അല്ല\", \"ഒന്ന്\", \"ഒരു\", \"എവിടെ\", \n",
    "    \"എങ്ങനെ\", \"എപ്പോൾ\", \"എന്ത്\", \"കാരണം\", \"മറ്റു\", \"മറ്റെല്ലാം\", \n",
    "    \"പിന്നെ\", \"പിന്നീട്\", \"ഇപ്പോൾ\", \"ഈ\", \"ഈയുള്ള\", \"ആ\", \"ആയിരിക്കാം\"\n",
    "}\n",
    "\n",
    "def simple_malayalam_stemmer(word):\n",
    "    suffixes = [\n",
    "    'കൾ', 'യുടെ', 'ത്തിന്', 'ങ്ങൾ', 'ത്തിൽ', 'ഉം', 'നാൽ', 'യെ', \n",
    "    'ഇൽ', 'വരെ', 'ഇക്ക്', 'ഓടെ', 'ഉടെ', 'പ്പടെ', 'ൽ', 'പോലെ', \n",
    "    'യുള്ള', 'ക്ക്', 'നെ', 'രണ്ടു', 'രീതിയിലുള്ള', 'നു', 'നുൽ',\n",
    "    'ആയ', 'ടെ', 'ക്കു', 'ഉണ്ട്', 'പോലുള്ള', 'ല്‍', 'ഏറ്റം'\n",
    "]\n",
    "\n",
    "    for suffix in suffixes:\n",
    "        if word.endswith(suffix):\n",
    "            return word[:-len(suffix)]\n",
    "    return word\n",
    "\n",
    "def malayalam_stemming(content):\n",
    "    tokens = indic_tokenize.trivial_tokenize(content, lang='ml')\n",
    "    stemmed_content = [simple_malayalam_stemmer(word) for word in tokens if word not in malayalam_stopwords]\n",
    "    return ' '.join(stemmed_content)\n",
    "\n",
    "# Preprocess the text\n",
    "malayalam_dataset['Text'] = malayalam_dataset['Text'].apply(malayalam_stemming)\n",
    "\n",
    "# Separate features and labels\n",
    "X = malayalam_dataset['Text'].values\n",
    "Y = malayalam_dataset['Class'].values\n",
    "\n",
    "# Split into training and testing sets\n",
    "X_train, X_test, Y_train, Y_test = train_test_split(X, Y, test_size=0.2, random_state=42)\n",
    "\n",
    "# Convert text data to numerical data using TfidfVectorizer\n",
    "vectorizer = TfidfVectorizer(ngram_range=(1, 5))\n",
    "X_tfidf_train = vectorizer.fit_transform(X_train)\n",
    "X_tfidf_test = vectorizer.transform(X_test)\n",
    "\n",
    "# Train the model\n",
    "#model = RandomForestClassifier(n_estimators=100, class_weight='balanced')\n",
    "model = SVC(kernel='linear', class_weight='balanced')\n",
    "model.fit(X_tfidf_train, Y_train)\n",
    "\n",
    "# Accuracy score on the training data\n",
    "X_train_prediction = model.predict(X_tfidf_train)\n",
    "training_data_accuracy = accuracy_score(Y_train, X_train_prediction)\n",
    "print('Accuracy score on the training data malayalam: ', training_data_accuracy)\n",
    "\n",
    "# Accuracy score on the testing data\n",
    "X_test_prediction = model.predict(X_tfidf_test)\n",
    "test_data_accuracy = accuracy_score(Y_test, X_test_prediction)\n",
    "print('Accuracy score on the testing data malayalam: ', test_data_accuracy)\n"
   ]
  },
  {
   "cell_type": "code",
   "execution_count": 26,
   "metadata": {},
   "outputs": [
    {
     "name": "stdout",
     "output_type": "stream",
     "text": [
      "The text is abusive.\n"
     ]
    }
   ],
   "source": [
    "# Function to classify new Malayalam text\n",
    "def classify_malayalam_text(text):\n",
    "    # Preprocess the text\n",
    "    preprocessed_text = malayalam_stemming(text)\n",
    "    \n",
    "    # Convert the text to numerical features using the pre-fitted TfidfVectorizer\n",
    "    text_tfidf = vectorizer.transform([preprocessed_text])\n",
    "    \n",
    "    # Use the trained model to predict the class\n",
    "    prediction = model.predict(text_tfidf)\n",
    "    \n",
    "    # Print the result based on class label\n",
    "    if prediction[0] == 'Abusive':\n",
    "        print(\"The text is abusive.\")\n",
    "    else:\n",
    "        print(\"The text is non-abusive.\")\n",
    "\n",
    "# Test the function with a new input\n",
    "new_text = \"പുളിക്കു\"\n",
    "classify_malayalam_text(new_text)\n"
   ]
  }
 ],
 "metadata": {
  "kernelspec": {
   "display_name": "Python 3",
   "language": "python",
   "name": "python3"
  },
  "language_info": {
   "codemirror_mode": {
    "name": "ipython",
    "version": 3
   },
   "file_extension": ".py",
   "mimetype": "text/x-python",
   "name": "python",
   "nbconvert_exporter": "python",
   "pygments_lexer": "ipython3",
   "version": "3.12.4"
  }
 },
 "nbformat": 4,
 "nbformat_minor": 2
}
